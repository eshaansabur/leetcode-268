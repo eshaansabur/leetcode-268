{
 "cells": [
  {
   "cell_type": "code",
   "execution_count": 1,
   "id": "6bf2fde7-a564-4896-843a-6e6b5d19e2d0",
   "metadata": {},
   "outputs": [
    {
     "data": {
      "text/plain": [
       "8"
      ]
     },
     "execution_count": 1,
     "metadata": {},
     "output_type": "execute_result"
    }
   ],
   "source": [
    "nums = [9,6,4,2,3,5,7,0,1]\n",
    "def missingNumber(nums):\n",
    "    num_length= len(nums)\n",
    "    for i in range(0, num_length+1):\n",
    "        if i not in nums:\n",
    "            return i\n",
    "\n",
    "missingNumber(nums)"
   ]
  },
  {
   "cell_type": "code",
   "execution_count": 2,
   "id": "ecadfdb8-149e-481d-9bd4-20ec97005164",
   "metadata": {},
   "outputs": [
    {
     "data": {
      "text/plain": [
       "[0, 1, 1, 2, 1, 2]"
      ]
     },
     "execution_count": 2,
     "metadata": {},
     "output_type": "execute_result"
    }
   ],
   "source": [
    "n=5\n",
    "def countBits(n):\n",
    "    bit_list= []\n",
    "    bit_counter= []\n",
    "    for i in range(0, n+1):\n",
    "        i= bin(i)\n",
    "        i=i[2:]\n",
    "        bit_list.append(i)\n",
    "    for i in bit_list:\n",
    "        elem_list= list(i)\n",
    "        sum=0\n",
    "        for j in elem_list:\n",
    "            if j=='1':\n",
    "                sum= sum+1\n",
    "        bit_counter.append(sum)\n",
    "    return bit_counter\n",
    "\n",
    "countBits(n)"
   ]
  },
  {
   "cell_type": "code",
   "execution_count": 9,
   "id": "7968c160-e2ac-4766-a6dc-02c97938bb8a",
   "metadata": {},
   "outputs": [
    {
     "data": {
      "text/plain": [
       "True"
      ]
     },
     "execution_count": 9,
     "metadata": {},
     "output_type": "execute_result"
    }
   ],
   "source": [
    "x= 4\n",
    "def isPowerOfFour(x):\n",
    "    for i in range(-128, 128):\n",
    "        num = 4 ** i\n",
    "        if num== x:\n",
    "            return True\n",
    "        \n",
    "    return False\n",
    "\n",
    "isPowerOfFour(x)"
   ]
  },
  {
   "cell_type": "code",
   "execution_count": null,
   "id": "1ed29d7e-c47c-4b2e-8dc1-72ad89d98b75",
   "metadata": {},
   "outputs": [],
   "source": []
  }
 ],
 "metadata": {
  "kernelspec": {
   "display_name": "Python 3 (ipykernel)",
   "language": "python",
   "name": "python3"
  },
  "language_info": {
   "codemirror_mode": {
    "name": "ipython",
    "version": 3
   },
   "file_extension": ".py",
   "mimetype": "text/x-python",
   "name": "python",
   "nbconvert_exporter": "python",
   "pygments_lexer": "ipython3",
   "version": "3.11.7"
  }
 },
 "nbformat": 4,
 "nbformat_minor": 5
}
